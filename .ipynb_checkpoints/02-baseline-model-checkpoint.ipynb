{
 "cells": [
  {
   "cell_type": "code",
   "execution_count": 1,
   "id": "27e1f48e-aa9b-4a42-bf7f-84be871351b0",
   "metadata": {},
   "outputs": [],
   "source": [
    "import pandas as pd\n",
    "import numpy as np\n",
    "from datetime import date, datetime\n",
    "\n",
    "pd.set_option('display.max_columns', None)"
   ]
  },
  {
   "cell_type": "code",
   "execution_count": 2,
   "id": "a7b2fd9b-cbbc-4fce-a1de-c90a1f4c88dc",
   "metadata": {},
   "outputs": [
    {
     "name": "stdout",
     "output_type": "stream",
     "text": [
      "(541909, 8)\n",
      "(536641, 8)\n",
      "(536561, 8)\n"
     ]
    }
   ],
   "source": [
    "df_initial = pd.read_csv('./data.csv',encoding=\"ISO-8859-1\",\n",
    "                         dtype={'CustomerID': str,'InvoiceID': str, 'StockCode': str})\n",
    "\n",
    "df_initial[\"InvoiceDate\"] = pd.to_datetime(df_initial[\"InvoiceDate\"])\n",
    "\n",
    "print(df_initial.shape)\n",
    "\n",
    "df_initial.drop_duplicates(inplace = True)\n",
    "\n",
    "print(df_initial.shape)\n",
    "\n",
    "df_initial = df_initial[~df_initial[\"StockCode\"].isin([\"B\", \"D\"])]\n",
    "\n",
    "print(df_initial.shape)"
   ]
  },
  {
   "cell_type": "code",
   "execution_count": 3,
   "id": "e70742d6-1d80-4e11-aed1-d6f35fcdac96",
   "metadata": {},
   "outputs": [],
   "source": [
    "# Prep YearMonth\n",
    "df_initial[\"YearMonth\"] = df_initial[\"InvoiceDate\"].apply(lambda x: x.year*100 + x.month)"
   ]
  },
  {
   "cell_type": "code",
   "execution_count": 4,
   "id": "0f2bddb5-8582-4198-be84-7c35b2b10c36",
   "metadata": {},
   "outputs": [
    {
     "data": {
      "text/html": [
       "<div>\n",
       "<style scoped>\n",
       "    .dataframe tbody tr th:only-of-type {\n",
       "        vertical-align: middle;\n",
       "    }\n",
       "\n",
       "    .dataframe tbody tr th {\n",
       "        vertical-align: top;\n",
       "    }\n",
       "\n",
       "    .dataframe thead th {\n",
       "        text-align: right;\n",
       "    }\n",
       "</style>\n",
       "<table border=\"1\" class=\"dataframe\">\n",
       "  <thead>\n",
       "    <tr style=\"text-align: right;\">\n",
       "      <th></th>\n",
       "      <th>InvoiceNo</th>\n",
       "      <th>StockCode</th>\n",
       "      <th>Description</th>\n",
       "      <th>Quantity</th>\n",
       "      <th>InvoiceDate</th>\n",
       "      <th>UnitPrice</th>\n",
       "      <th>CustomerID</th>\n",
       "      <th>Country</th>\n",
       "      <th>YearMonth</th>\n",
       "    </tr>\n",
       "  </thead>\n",
       "  <tbody>\n",
       "    <tr>\n",
       "      <th>0</th>\n",
       "      <td>536365</td>\n",
       "      <td>85123A</td>\n",
       "      <td>WHITE HANGING HEART T-LIGHT HOLDER</td>\n",
       "      <td>6</td>\n",
       "      <td>2010-12-01 08:26:00</td>\n",
       "      <td>2.55</td>\n",
       "      <td>17850</td>\n",
       "      <td>United Kingdom</td>\n",
       "      <td>201012</td>\n",
       "    </tr>\n",
       "    <tr>\n",
       "      <th>1</th>\n",
       "      <td>536365</td>\n",
       "      <td>71053</td>\n",
       "      <td>WHITE METAL LANTERN</td>\n",
       "      <td>6</td>\n",
       "      <td>2010-12-01 08:26:00</td>\n",
       "      <td>3.39</td>\n",
       "      <td>17850</td>\n",
       "      <td>United Kingdom</td>\n",
       "      <td>201012</td>\n",
       "    </tr>\n",
       "    <tr>\n",
       "      <th>2</th>\n",
       "      <td>536365</td>\n",
       "      <td>84406B</td>\n",
       "      <td>CREAM CUPID HEARTS COAT HANGER</td>\n",
       "      <td>8</td>\n",
       "      <td>2010-12-01 08:26:00</td>\n",
       "      <td>2.75</td>\n",
       "      <td>17850</td>\n",
       "      <td>United Kingdom</td>\n",
       "      <td>201012</td>\n",
       "    </tr>\n",
       "    <tr>\n",
       "      <th>3</th>\n",
       "      <td>536365</td>\n",
       "      <td>84029G</td>\n",
       "      <td>KNITTED UNION FLAG HOT WATER BOTTLE</td>\n",
       "      <td>6</td>\n",
       "      <td>2010-12-01 08:26:00</td>\n",
       "      <td>3.39</td>\n",
       "      <td>17850</td>\n",
       "      <td>United Kingdom</td>\n",
       "      <td>201012</td>\n",
       "    </tr>\n",
       "    <tr>\n",
       "      <th>4</th>\n",
       "      <td>536365</td>\n",
       "      <td>84029E</td>\n",
       "      <td>RED WOOLLY HOTTIE WHITE HEART.</td>\n",
       "      <td>6</td>\n",
       "      <td>2010-12-01 08:26:00</td>\n",
       "      <td>3.39</td>\n",
       "      <td>17850</td>\n",
       "      <td>United Kingdom</td>\n",
       "      <td>201012</td>\n",
       "    </tr>\n",
       "  </tbody>\n",
       "</table>\n",
       "</div>"
      ],
      "text/plain": [
       "  InvoiceNo StockCode                          Description  Quantity  \\\n",
       "0    536365    85123A   WHITE HANGING HEART T-LIGHT HOLDER         6   \n",
       "1    536365     71053                  WHITE METAL LANTERN         6   \n",
       "2    536365    84406B       CREAM CUPID HEARTS COAT HANGER         8   \n",
       "3    536365    84029G  KNITTED UNION FLAG HOT WATER BOTTLE         6   \n",
       "4    536365    84029E       RED WOOLLY HOTTIE WHITE HEART.         6   \n",
       "\n",
       "          InvoiceDate  UnitPrice CustomerID         Country  YearMonth  \n",
       "0 2010-12-01 08:26:00       2.55      17850  United Kingdom     201012  \n",
       "1 2010-12-01 08:26:00       3.39      17850  United Kingdom     201012  \n",
       "2 2010-12-01 08:26:00       2.75      17850  United Kingdom     201012  \n",
       "3 2010-12-01 08:26:00       3.39      17850  United Kingdom     201012  \n",
       "4 2010-12-01 08:26:00       3.39      17850  United Kingdom     201012  "
      ]
     },
     "execution_count": 4,
     "metadata": {},
     "output_type": "execute_result"
    }
   ],
   "source": [
    "df_initial.head()"
   ]
  },
  {
   "cell_type": "code",
   "execution_count": 5,
   "id": "e20708fc-7be7-4cd2-b4ec-daab7ad2d177",
   "metadata": {},
   "outputs": [
    {
     "data": {
      "text/plain": [
       "(511316, 9)"
      ]
     },
     "execution_count": 5,
     "metadata": {},
     "output_type": "execute_result"
    }
   ],
   "source": [
    "# drop latest month\n",
    "df = df_initial.loc[df_initial[\"YearMonth\"] < 201112]\n",
    "\n",
    "df.shape"
   ]
  },
  {
   "cell_type": "code",
   "execution_count": 6,
   "id": "7d47c011-49a2-424f-b372-4feba06b96a9",
   "metadata": {},
   "outputs": [
    {
     "name": "stdout",
     "output_type": "stream",
     "text": [
      "[201012, 201101, 201102, 201103, 201104, 201105, 201106, 201107, 201108, 201109, 201110, 201111]\n"
     ]
    }
   ],
   "source": [
    "list_month = df[\"YearMonth\"].unique().tolist()\n",
    "\n",
    "print(list_month)"
   ]
  },
  {
   "cell_type": "code",
   "execution_count": 7,
   "id": "f85b9aaa-afe3-4a2b-b666-33de5e7b37bb",
   "metadata": {},
   "outputs": [
    {
     "data": {
      "text/html": [
       "<div>\n",
       "<style scoped>\n",
       "    .dataframe tbody tr th:only-of-type {\n",
       "        vertical-align: middle;\n",
       "    }\n",
       "\n",
       "    .dataframe tbody tr th {\n",
       "        vertical-align: top;\n",
       "    }\n",
       "\n",
       "    .dataframe thead th {\n",
       "        text-align: right;\n",
       "    }\n",
       "</style>\n",
       "<table border=\"1\" class=\"dataframe\">\n",
       "  <thead>\n",
       "    <tr style=\"text-align: right;\">\n",
       "      <th></th>\n",
       "      <th>StockCode</th>\n",
       "      <th>YearMonth</th>\n",
       "      <th>Quantity</th>\n",
       "    </tr>\n",
       "  </thead>\n",
       "  <tbody>\n",
       "    <tr>\n",
       "      <th>0</th>\n",
       "      <td>10002</td>\n",
       "      <td>201012</td>\n",
       "      <td>251</td>\n",
       "    </tr>\n",
       "    <tr>\n",
       "      <th>1</th>\n",
       "      <td>10002</td>\n",
       "      <td>201101</td>\n",
       "      <td>340</td>\n",
       "    </tr>\n",
       "    <tr>\n",
       "      <th>2</th>\n",
       "      <td>10002</td>\n",
       "      <td>201102</td>\n",
       "      <td>52</td>\n",
       "    </tr>\n",
       "    <tr>\n",
       "      <th>3</th>\n",
       "      <td>10002</td>\n",
       "      <td>201103</td>\n",
       "      <td>208</td>\n",
       "    </tr>\n",
       "    <tr>\n",
       "      <th>4</th>\n",
       "      <td>10002</td>\n",
       "      <td>201104</td>\n",
       "      <td>186</td>\n",
       "    </tr>\n",
       "    <tr>\n",
       "      <th>5</th>\n",
       "      <td>10080</td>\n",
       "      <td>201102</td>\n",
       "      <td>2</td>\n",
       "    </tr>\n",
       "    <tr>\n",
       "      <th>6</th>\n",
       "      <td>10080</td>\n",
       "      <td>201106</td>\n",
       "      <td>60</td>\n",
       "    </tr>\n",
       "    <tr>\n",
       "      <th>7</th>\n",
       "      <td>10080</td>\n",
       "      <td>201107</td>\n",
       "      <td>194</td>\n",
       "    </tr>\n",
       "    <tr>\n",
       "      <th>8</th>\n",
       "      <td>10080</td>\n",
       "      <td>201108</td>\n",
       "      <td>60</td>\n",
       "    </tr>\n",
       "    <tr>\n",
       "      <th>9</th>\n",
       "      <td>10080</td>\n",
       "      <td>201109</td>\n",
       "      <td>60</td>\n",
       "    </tr>\n",
       "  </tbody>\n",
       "</table>\n",
       "</div>"
      ],
      "text/plain": [
       "  StockCode  YearMonth  Quantity\n",
       "0     10002     201012       251\n",
       "1     10002     201101       340\n",
       "2     10002     201102        52\n",
       "3     10002     201103       208\n",
       "4     10002     201104       186\n",
       "5     10080     201102         2\n",
       "6     10080     201106        60\n",
       "7     10080     201107       194\n",
       "8     10080     201108        60\n",
       "9     10080     201109        60"
      ]
     },
     "execution_count": 7,
     "metadata": {},
     "output_type": "execute_result"
    }
   ],
   "source": [
    "df_agg_qty = df.groupby(['StockCode', \"YearMonth\"], as_index=False)[\"Quantity\"].sum()\n",
    "\n",
    "df_agg_qty.head(10)"
   ]
  },
  {
   "cell_type": "code",
   "execution_count": 8,
   "id": "a7e757c5-bc05-4fd6-b706-e209a1660057",
   "metadata": {},
   "outputs": [],
   "source": [
    "list_training_months = [201012, 201101, 201102, 201103, 201104, 201105]\n",
    "test_month = 201106"
   ]
  },
  {
   "cell_type": "code",
   "execution_count": 9,
   "id": "67698b08-807c-495d-a73f-e9fa9fb9b38b",
   "metadata": {},
   "outputs": [],
   "source": [
    "df_agg_qty_forecast = df_agg_qty.loc[df_agg_qty[\"YearMonth\"].isin(list_training_months)]\n",
    "\n",
    "df_agg_qty_test = df_agg_qty.loc[df_agg_qty[\"YearMonth\"] == test_month]"
   ]
  },
  {
   "cell_type": "code",
   "execution_count": 10,
   "id": "d1aa58e1-e833-4d8e-9e4e-42be8ee5d6d6",
   "metadata": {},
   "outputs": [],
   "source": [
    "df_agg_qty_forecast = (df_agg_qty_forecast.groupby([\"StockCode\"], as_index=False)\n",
    "                      .agg(\n",
    "                          ForecastQTY=(\"Quantity\", \"mean\")\n",
    "                      ))\n",
    "\n",
    "df_agg_qty_test = (df_agg_qty_test.groupby([\"StockCode\"], as_index=False)\n",
    "                   .agg(\n",
    "                       ActualQTY=(\"Quantity\", \"sum\")\n",
    "                   )\n",
    "                  )"
   ]
  },
  {
   "cell_type": "code",
   "execution_count": 11,
   "id": "246de2c1-e61b-4a2f-bebb-3d41ac7265c9",
   "metadata": {},
   "outputs": [],
   "source": [
    "df_forecast_eval = df_agg_qty_forecast.merge(df_agg_qty_test,\n",
    "                                            on=\"StockCode\",\n",
    "                                            how=\"outer\")\n",
    "\n",
    "df_forecast_eval.fillna(0, inplace=True)"
   ]
  },
  {
   "cell_type": "code",
   "execution_count": 12,
   "id": "12a48069-9e23-44eb-bb10-e87d6167b2b5",
   "metadata": {},
   "outputs": [
    {
     "data": {
      "text/html": [
       "<div>\n",
       "<style scoped>\n",
       "    .dataframe tbody tr th:only-of-type {\n",
       "        vertical-align: middle;\n",
       "    }\n",
       "\n",
       "    .dataframe tbody tr th {\n",
       "        vertical-align: top;\n",
       "    }\n",
       "\n",
       "    .dataframe thead th {\n",
       "        text-align: right;\n",
       "    }\n",
       "</style>\n",
       "<table border=\"1\" class=\"dataframe\">\n",
       "  <thead>\n",
       "    <tr style=\"text-align: right;\">\n",
       "      <th></th>\n",
       "      <th>StockCode</th>\n",
       "      <th>ForecastQTY</th>\n",
       "      <th>ActualQTY</th>\n",
       "    </tr>\n",
       "  </thead>\n",
       "  <tbody>\n",
       "    <tr>\n",
       "      <th>0</th>\n",
       "      <td>10002</td>\n",
       "      <td>207.40</td>\n",
       "      <td>0.0</td>\n",
       "    </tr>\n",
       "    <tr>\n",
       "      <th>1</th>\n",
       "      <td>10080</td>\n",
       "      <td>2.00</td>\n",
       "      <td>60.0</td>\n",
       "    </tr>\n",
       "    <tr>\n",
       "      <th>2</th>\n",
       "      <td>10120</td>\n",
       "      <td>19.25</td>\n",
       "      <td>0.0</td>\n",
       "    </tr>\n",
       "    <tr>\n",
       "      <th>3</th>\n",
       "      <td>10123C</td>\n",
       "      <td>2.50</td>\n",
       "      <td>0.0</td>\n",
       "    </tr>\n",
       "    <tr>\n",
       "      <th>4</th>\n",
       "      <td>10123G</td>\n",
       "      <td>-38.00</td>\n",
       "      <td>0.0</td>\n",
       "    </tr>\n",
       "  </tbody>\n",
       "</table>\n",
       "</div>"
      ],
      "text/plain": [
       "  StockCode  ForecastQTY  ActualQTY\n",
       "0     10002       207.40        0.0\n",
       "1     10080         2.00       60.0\n",
       "2     10120        19.25        0.0\n",
       "3    10123C         2.50        0.0\n",
       "4    10123G       -38.00        0.0"
      ]
     },
     "execution_count": 12,
     "metadata": {},
     "output_type": "execute_result"
    }
   ],
   "source": [
    "df_forecast_eval.head()"
   ]
  },
  {
   "cell_type": "code",
   "execution_count": 13,
   "id": "c4bbd51b-4c28-4008-bf80-e6d21da65fee",
   "metadata": {},
   "outputs": [],
   "source": [
    "def wmape(actual, forecast):\n",
    "    \n",
    "    # make a series called mape\n",
    "    se_mape = abs(actual-forecast)/actual\n",
    "\n",
    "    # get a float of the sum of the actual\n",
    "    ft_actual_sum = actual.sum()\n",
    "\n",
    "    # get a series of the multiple of the actual & the mape\n",
    "    se_actual_prod_mape = actual * se_mape\n",
    "\n",
    "    # summate the prod of the actual and the mape\n",
    "    ft_actual_prod_mape_sum = se_actual_prod_mape.sum()\n",
    "\n",
    "    # float: wmape of forecast\n",
    "    ft_wmape_forecast = ft_actual_prod_mape_sum / ft_actual_sum\n",
    "\n",
    "    # return a float\n",
    "    return ft_wmape_forecast"
   ]
  },
  {
   "cell_type": "code",
   "execution_count": 14,
   "id": "6470f58a-065c-45df-9ef7-ea9542016797",
   "metadata": {},
   "outputs": [],
   "source": [
    "# baseline evaluation\n",
    "error = wmape(df_forecast_eval[\"ActualQTY\"], df_forecast_eval[\"ForecastQTY\"])"
   ]
  },
  {
   "cell_type": "code",
   "execution_count": 15,
   "id": "170fc0a5-4402-43ea-91d7-c75dba4eb213",
   "metadata": {},
   "outputs": [
    {
     "name": "stdout",
     "output_type": "stream",
     "text": [
      "17.061211504572682\n"
     ]
    }
   ],
   "source": [
    "accuracy = 1 - error\n",
    "\n",
    "print(accuracy * 100)"
   ]
  },
  {
   "cell_type": "code",
   "execution_count": null,
   "id": "ff42a870-1fa5-438c-8494-65ac30e911c4",
   "metadata": {},
   "outputs": [],
   "source": []
  }
 ],
 "metadata": {
  "kernelspec": {
   "display_name": "Python 3 (ipykernel)",
   "language": "python",
   "name": "python3"
  },
  "language_info": {
   "codemirror_mode": {
    "name": "ipython",
    "version": 3
   },
   "file_extension": ".py",
   "mimetype": "text/x-python",
   "name": "python",
   "nbconvert_exporter": "python",
   "pygments_lexer": "ipython3",
   "version": "3.11.0"
  }
 },
 "nbformat": 4,
 "nbformat_minor": 5
}
